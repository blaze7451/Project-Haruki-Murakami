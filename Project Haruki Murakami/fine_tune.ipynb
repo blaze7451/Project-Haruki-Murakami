{
 "cells": [
  {
   "cell_type": "code",
   "execution_count": 1,
   "metadata": {},
   "outputs": [],
   "source": [
    "import argparse\n",
    "\n",
    "import torch \n",
    "import torch.nn as nn\n",
    "import torch.nn.functional as F\n",
    "\n",
    "from Haruki_Dataset import Corpus\n",
    "from model import TransformerNet\n",
    "from sklearn.model_selection import train_test_split\n",
    "device= torch.device(\"cuda\" if torch.cuda.is_available() else \"cpu\")"
   ]
  },
  {
   "cell_type": "code",
   "execution_count": 2,
   "metadata": {},
   "outputs": [
    {
     "name": "stdout",
     "output_type": "stream",
     "text": [
      "674816\n",
      "torch.Size([8, 84352])\n"
     ]
    }
   ],
   "source": [
    "import optuna\n",
    "\n",
    "a=Corpus()\n",
    "\n",
    "b=a.get_data(\"C:\\\\Python\\\\Pytorch\\\\Transformer related\\\\Project Haruki Murakami\\\\data\\\\*.txt\")\n",
    "\n",
    "print(b.size()) #(8, 84352)"
   ]
  },
  {
   "cell_type": "code",
   "execution_count": 3,
   "metadata": {},
   "outputs": [
    {
     "name": "stdout",
     "output_type": "stream",
     "text": [
      "8\n",
      "14307\n"
     ]
    }
   ],
   "source": [
    "print(len(b)) #8\n",
    "num_vocab=len(a.dictionary.word2idx)\n",
    "print(num_vocab) #14307\n"
   ]
  },
  {
   "cell_type": "code",
   "execution_count": 40,
   "metadata": {},
   "outputs": [],
   "source": [
    "def parse_args():\n",
    "    parser = argparse.ArgumentParser(description=\"Japanese text generation based on novels of Haruki Murakami\")\n",
    "    parser.add_argument(\"--corpus\", type=str, default=\"C:\\\\Python\\Pytorch\\\\Transformer related\\\\Project Haruki Murakami\\\\data\\\\*.txt\", help=\"traing corpus files\")\n",
    "    parser.add_argument(\"--output_model\", type=str, default=\"C:\\\\Python\\Pytorch\\\\Transformer related\\\\Project Haruki Murakami\\\\output_model.pt\", help=\"output model file\")\n",
    "    parser.add_argument(\"--seq-length\", type=int, default=50, help=\"input sequence length (default: 50)\")\n",
    "    parser.add_argument('--batch-size', type=int, default=8, help='training batch size (default: 8)')\n",
    "    parser.add_argument('--embedding-dim', type=int, default=256, help='embedding dimension for characters in corpus (default: 256)')\n",
    "    parser.add_argument('--hidden-dim', type=int, default=256, help='hidden state dimension (default: 256)')\n",
    "    parser.add_argument('--lr', type=float, default=0.0001, help='learning rate (default: 0.0001)')\n",
    "    parser.add_argument('--dropout', type=float, default=0.2, help='dropout rate (default: 0.2)')\n",
    "    parser.add_argument('--epochs', type=int, default=10, help='number of epochs to train (default: 10)')\n",
    "    parser.add_argument('--log-interval', type=int, default=1200, help='number of batches to wait before logging status (default: 100)')\n",
    "    return parser.parse_args(args=[])"
   ]
  },
  {
   "cell_type": "code",
   "execution_count": 43,
   "metadata": {},
   "outputs": [],
   "source": [
    "def build_model(params, args):\n",
    "    \n",
    "    return TransformerNet(n_vocab=num_vocab, embedding_dim=args.embedding_dim, hidden_dim=args.hidden_dim)\n",
    "\n",
    "def test(model, data, args):\n",
    "    model.eval()\n",
    "    \n",
    "\n",
    "    total_loss = 0\n",
    "    with torch.no_grad():\n",
    "        for num in range(0, data.size(1)-args.seq_length, args.seq_length):\n",
    "            count=len(range(0, data.size(1)-args.seq_length, args.seq_length))\n",
    "            inputs=data[:, num:num+args.seq_length].to(device)\n",
    "            targets=data[:, num+1:num+1+args.seq_length].to(device)\n",
    "            output = model(inputs)\n",
    "            loss = F.cross_entropy(output.view(-1, output.shape[-1]), targets.t().reshape(-1))\n",
    "            total_loss += loss.item()\n",
    "\n",
    "    avg_loss = total_loss / count\n",
    "    print('Test Loss: {:.6f}'.format(avg_loss))\n",
    "\n",
    "\n",
    "# Train and evaluate the accuarcy of neural network model\n",
    "def train_and_evaluate(param, model, args):\n",
    "    \n",
    "    model=model.to(device)\n",
    "    dataset=b.reshape(-1)\n",
    "    train_set, test_set = train_test_split(dataset, test_size=0.25, shuffle=True)\n",
    "    train_dataloader = train_set.view(args.batch_size, -1)\n",
    "    test_dataloader = test_set.view(args.batch_size, -1)\n",
    "    \n",
    "    optimizer= getattr(torch.optim, param['optimizer'])(model.parameters(), lr= param['lr'])\n",
    "\n",
    "    #Train\n",
    "    model.train()\n",
    "    for epoch in range(args.epochs):\n",
    "        \n",
    "        i=0\n",
    "        for num in range(0, train_dataloader.size(1)-args.seq_length, args.seq_length):\n",
    "            count=len(range(0, train_dataloader.size(1)-args.seq_length, args.seq_length))\n",
    "            inputs=train_dataloader[:, num:num+args.seq_length].to(device)\n",
    "            targets=train_dataloader[:, num+1:num+1+args.seq_length].to(device)\n",
    "            #train\n",
    "            optimizer.zero_grad()\n",
    "            outputs=model(inputs) # seq_len x batch_size x |V|\n",
    "            loss = F.cross_entropy(outputs.view(-1, outputs.shape[-1]), targets.t().reshape(-1))\n",
    "            loss.backward()\n",
    "            optimizer.step()\n",
    "            \n",
    "            i += 1\n",
    "            \n",
    "            if i%args.log_interval == 0:\n",
    "                print(f'Epoch [{epoch+1}/{args.epochs}], Step [{i}], Loss: {loss.item():.4f}')\n",
    "\n",
    "    # Test\n",
    "    model.eval()\n",
    "    \n",
    "\n",
    "    total_loss = 0\n",
    "    with torch.no_grad():\n",
    "        for num in range(0, test_dataloader.size(1)-args.seq_length, args.seq_length):\n",
    "            count=len(range(0, test_dataloader.size(1)-args.seq_length, args.seq_length))\n",
    "            inputs=test_dataloader[:, num:num+args.seq_length].to(device)\n",
    "            targets=test_dataloader[:, num+1:num+1+args.seq_length].to(device)\n",
    "            output = model(inputs)\n",
    "            loss = F.cross_entropy(output.view(-1, output.shape[-1]), targets.t().reshape(-1))\n",
    "            total_loss += loss.item()\n",
    "\n",
    "    avg_loss = total_loss / count\n",
    "    return avg_loss\n",
    "\n",
    "\n",
    "\n",
    "def objective(trial):\n",
    "    params = {\n",
    "              'lr': trial.suggest_loguniform('lr', 1e-6, 1e-2),\n",
    "              'optimizer': trial.suggest_categorical(\"optimizer\", [\"Adam\", \"RMSprop\", \"AdamW\"])\n",
    "              }\n",
    "    args=parse_args()\n",
    "    model = build_model(params, args)\n",
    "    \n",
    "    avg_loss = train_and_evaluate(params, model, args)\n",
    "\n",
    "    return avg_loss"
   ]
  },
  {
   "cell_type": "code",
   "execution_count": 45,
   "metadata": {},
   "outputs": [
    {
     "name": "stderr",
     "output_type": "stream",
     "text": [
      "\u001b[32m[I 2022-11-12 18:02:53,345]\u001b[0m A new study created in memory with name: no-name-b16db53e-199b-4796-b7bc-f0695ef78131\u001b[0m\n",
      "C:\\Users\\blaze\\AppData\\Local\\Temp\\ipykernel_21948\\446533846.py:76: FutureWarning: suggest_loguniform has been deprecated in v3.0.0. This feature will be removed in v6.0.0. See https://github.com/optuna/optuna/releases/tag/v3.0.0. Use :func:`~optuna.trial.Trial.suggest_float` instead.\n",
      "  'lr': trial.suggest_loguniform('lr', 1e-6, 1e-2),\n"
     ]
    },
    {
     "name": "stdout",
     "output_type": "stream",
     "text": [
      "Epoch [1/10], Step [1200], Loss: 4.4368\n",
      "Epoch [2/10], Step [1200], Loss: 4.4027\n",
      "Epoch [3/10], Step [1200], Loss: 4.4111\n",
      "Epoch [4/10], Step [1200], Loss: 4.3952\n",
      "Epoch [5/10], Step [1200], Loss: 4.3966\n",
      "Epoch [6/10], Step [1200], Loss: 4.3996\n",
      "Epoch [7/10], Step [1200], Loss: 4.4076\n",
      "Epoch [8/10], Step [1200], Loss: 4.3975\n",
      "Epoch [9/10], Step [1200], Loss: 4.4009\n",
      "Epoch [10/10], Step [1200], Loss: 4.3927\n"
     ]
    },
    {
     "name": "stderr",
     "output_type": "stream",
     "text": [
      "\u001b[32m[I 2022-11-12 18:05:50,747]\u001b[0m Trial 0 finished with value: 4.498561649594341 and parameters: {'lr': 3.707667232005652e-05, 'optimizer': 'Adam'}. Best is trial 0 with value: 4.498561649594341.\u001b[0m\n"
     ]
    },
    {
     "name": "stdout",
     "output_type": "stream",
     "text": [
      "Epoch [1/10], Step [1200], Loss: 4.2962\n",
      "Epoch [2/10], Step [1200], Loss: 4.2651\n",
      "Epoch [3/10], Step [1200], Loss: 4.2584\n",
      "Epoch [4/10], Step [1200], Loss: 4.2457\n",
      "Epoch [5/10], Step [1200], Loss: 4.2428\n",
      "Epoch [6/10], Step [1200], Loss: 4.2378\n",
      "Epoch [7/10], Step [1200], Loss: 4.2470\n",
      "Epoch [8/10], Step [1200], Loss: 4.2418\n",
      "Epoch [9/10], Step [1200], Loss: 4.2306\n",
      "Epoch [10/10], Step [1200], Loss: 4.2321\n"
     ]
    },
    {
     "name": "stderr",
     "output_type": "stream",
     "text": [
      "\u001b[32m[I 2022-11-12 18:08:14,493]\u001b[0m Trial 1 finished with value: 4.501998526466714 and parameters: {'lr': 4.548526709905517e-05, 'optimizer': 'RMSprop'}. Best is trial 0 with value: 4.498561649594341.\u001b[0m\n"
     ]
    },
    {
     "name": "stdout",
     "output_type": "stream",
     "text": [
      "Epoch [1/10], Step [1200], Loss: 4.4572\n",
      "Epoch [2/10], Step [1200], Loss: 4.3985\n",
      "Epoch [3/10], Step [1200], Loss: 4.3881\n",
      "Epoch [4/10], Step [1200], Loss: 4.3850\n",
      "Epoch [5/10], Step [1200], Loss: 4.3868\n",
      "Epoch [6/10], Step [1200], Loss: 4.3811\n",
      "Epoch [7/10], Step [1200], Loss: 4.3702\n",
      "Epoch [8/10], Step [1200], Loss: 4.3717\n",
      "Epoch [9/10], Step [1200], Loss: 4.3753\n",
      "Epoch [10/10], Step [1200], Loss: 4.3669\n"
     ]
    },
    {
     "name": "stderr",
     "output_type": "stream",
     "text": [
      "\u001b[32m[I 2022-11-12 18:11:11,954]\u001b[0m Trial 2 finished with value: 4.474703687386954 and parameters: {'lr': 1.9586754566641234e-05, 'optimizer': 'Adam'}. Best is trial 2 with value: 4.474703687386954.\u001b[0m\n"
     ]
    },
    {
     "name": "stdout",
     "output_type": "stream",
     "text": [
      "Epoch [1/10], Step [1200], Loss: 6.3456\n",
      "Epoch [2/10], Step [1200], Loss: 5.7773\n",
      "Epoch [3/10], Step [1200], Loss: 5.4542\n",
      "Epoch [4/10], Step [1200], Loss: 5.1810\n",
      "Epoch [5/10], Step [1200], Loss: 4.9377\n",
      "Epoch [6/10], Step [1200], Loss: 4.7321\n",
      "Epoch [7/10], Step [1200], Loss: 4.5529\n",
      "Epoch [8/10], Step [1200], Loss: 4.4180\n",
      "Epoch [9/10], Step [1200], Loss: 4.3207\n",
      "Epoch [10/10], Step [1200], Loss: 4.2425\n"
     ]
    },
    {
     "name": "stderr",
     "output_type": "stream",
     "text": [
      "\u001b[32m[I 2022-11-12 18:14:09,526]\u001b[0m Trial 3 finished with value: 4.580766836424622 and parameters: {'lr': 1.4508223817510297e-06, 'optimizer': 'Adam'}. Best is trial 2 with value: 4.474703687386954.\u001b[0m\n"
     ]
    },
    {
     "name": "stdout",
     "output_type": "stream",
     "text": [
      "Epoch [1/10], Step [1200], Loss: 4.7512\n",
      "Epoch [2/10], Step [1200], Loss: 4.5018\n",
      "Epoch [3/10], Step [1200], Loss: 4.4768\n",
      "Epoch [4/10], Step [1200], Loss: 4.4745\n",
      "Epoch [5/10], Step [1200], Loss: 4.4761\n",
      "Epoch [6/10], Step [1200], Loss: 4.4725\n",
      "Epoch [7/10], Step [1200], Loss: 4.4746\n",
      "Epoch [8/10], Step [1200], Loss: 4.4636\n",
      "Epoch [9/10], Step [1200], Loss: 4.4648\n",
      "Epoch [10/10], Step [1200], Loss: 4.4798\n"
     ]
    },
    {
     "name": "stderr",
     "output_type": "stream",
     "text": [
      "\u001b[32m[I 2022-11-12 18:17:06,981]\u001b[0m Trial 4 finished with value: 4.483467226640062 and parameters: {'lr': 1.2925592771196815e-05, 'optimizer': 'Adam'}. Best is trial 2 with value: 4.474703687386954.\u001b[0m\n"
     ]
    },
    {
     "name": "stdout",
     "output_type": "stream",
     "text": [
      "Epoch [1/10], Step [1200], Loss: 4.5896\n",
      "Epoch [2/10], Step [1200], Loss: 4.2993\n",
      "Epoch [3/10], Step [1200], Loss: 4.2761\n",
      "Epoch [4/10], Step [1200], Loss: 4.2721\n",
      "Epoch [5/10], Step [1200], Loss: 4.2597\n",
      "Epoch [6/10], Step [1200], Loss: 4.2619\n",
      "Epoch [7/10], Step [1200], Loss: 4.2617\n",
      "Epoch [8/10], Step [1200], Loss: 4.2611\n",
      "Epoch [9/10], Step [1200], Loss: 4.2639\n",
      "Epoch [10/10], Step [1200], Loss: 4.2589\n"
     ]
    },
    {
     "name": "stderr",
     "output_type": "stream",
     "text": [
      "\u001b[32m[I 2022-11-12 18:20:08,080]\u001b[0m Trial 5 finished with value: 4.482287464685508 and parameters: {'lr': 1.0555860086584539e-05, 'optimizer': 'AdamW'}. Best is trial 2 with value: 4.474703687386954.\u001b[0m\n"
     ]
    },
    {
     "name": "stdout",
     "output_type": "stream",
     "text": [
      "Epoch [1/10], Step [1200], Loss: 4.6540\n",
      "Epoch [2/10], Step [1200], Loss: 4.6365\n",
      "Epoch [3/10], Step [1200], Loss: 4.6303\n",
      "Epoch [4/10], Step [1200], Loss: 4.6293\n",
      "Epoch [5/10], Step [1200], Loss: 4.6291\n",
      "Epoch [6/10], Step [1200], Loss: 4.6338\n",
      "Epoch [7/10], Step [1200], Loss: 4.6358\n",
      "Epoch [8/10], Step [1200], Loss: 4.6225\n",
      "Epoch [9/10], Step [1200], Loss: 4.6138\n",
      "Epoch [10/10], Step [1200], Loss: 4.6169\n"
     ]
    },
    {
     "name": "stderr",
     "output_type": "stream",
     "text": [
      "\u001b[32m[I 2022-11-12 18:23:05,423]\u001b[0m Trial 6 finished with value: 4.492865732899754 and parameters: {'lr': 4.723312814070713e-05, 'optimizer': 'Adam'}. Best is trial 2 with value: 4.474703687386954.\u001b[0m\n"
     ]
    },
    {
     "name": "stdout",
     "output_type": "stream",
     "text": [
      "Epoch [1/10], Step [1200], Loss: 4.4664\n",
      "Epoch [2/10], Step [1200], Loss: 4.4546\n",
      "Epoch [3/10], Step [1200], Loss: 4.4506\n",
      "Epoch [4/10], Step [1200], Loss: 4.4439\n",
      "Epoch [5/10], Step [1200], Loss: 4.4437\n",
      "Epoch [6/10], Step [1200], Loss: 4.4285\n",
      "Epoch [7/10], Step [1200], Loss: 4.4305\n",
      "Epoch [8/10], Step [1200], Loss: 4.4162\n",
      "Epoch [9/10], Step [1200], Loss: 4.4302\n",
      "Epoch [10/10], Step [1200], Loss: 4.4108\n"
     ]
    },
    {
     "name": "stderr",
     "output_type": "stream",
     "text": [
      "\u001b[32m[I 2022-11-12 18:26:06,468]\u001b[0m Trial 7 finished with value: 4.5052875351169615 and parameters: {'lr': 8.246991385141191e-05, 'optimizer': 'AdamW'}. Best is trial 2 with value: 4.474703687386954.\u001b[0m\n"
     ]
    },
    {
     "name": "stdout",
     "output_type": "stream",
     "text": [
      "Epoch [1/10], Step [1200], Loss: 4.5489\n",
      "Epoch [2/10], Step [1200], Loss: 4.4888\n",
      "Epoch [3/10], Step [1200], Loss: 4.4625\n",
      "Epoch [4/10], Step [1200], Loss: 4.4405\n",
      "Epoch [5/10], Step [1200], Loss: 4.4310\n",
      "Epoch [6/10], Step [1200], Loss: 4.4232\n",
      "Epoch [7/10], Step [1200], Loss: 4.4502\n",
      "Epoch [8/10], Step [1200], Loss: 4.4129\n",
      "Epoch [9/10], Step [1200], Loss: 4.4227\n",
      "Epoch [10/10], Step [1200], Loss: 4.3951\n"
     ]
    },
    {
     "name": "stderr",
     "output_type": "stream",
     "text": [
      "\u001b[32m[I 2022-11-12 18:28:31,777]\u001b[0m Trial 8 finished with value: 4.511264488985873 and parameters: {'lr': 0.0014766069238589885, 'optimizer': 'RMSprop'}. Best is trial 2 with value: 4.474703687386954.\u001b[0m\n"
     ]
    },
    {
     "name": "stdout",
     "output_type": "stream",
     "text": [
      "Epoch [1/10], Step [1200], Loss: 4.8178\n",
      "Epoch [2/10], Step [1200], Loss: 4.7789\n",
      "Epoch [3/10], Step [1200], Loss: 4.7201\n",
      "Epoch [4/10], Step [1200], Loss: 4.6665\n",
      "Epoch [5/10], Step [1200], Loss: 4.6889\n",
      "Epoch [6/10], Step [1200], Loss: 4.6555\n",
      "Epoch [7/10], Step [1200], Loss: 4.6831\n",
      "Epoch [8/10], Step [1200], Loss: 4.6589\n",
      "Epoch [9/10], Step [1200], Loss: 4.6619\n",
      "Epoch [10/10], Step [1200], Loss: 4.6527\n"
     ]
    },
    {
     "name": "stderr",
     "output_type": "stream",
     "text": [
      "\u001b[32m[I 2022-11-12 18:31:29,172]\u001b[0m Trial 9 finished with value: 4.6401567436453846 and parameters: {'lr': 0.000883664330194345, 'optimizer': 'Adam'}. Best is trial 2 with value: 4.474703687386954.\u001b[0m\n"
     ]
    },
    {
     "name": "stdout",
     "output_type": "stream",
     "text": [
      "Epoch [1/10], Step [1200], Loss: 4.5836\n",
      "Epoch [2/10], Step [1200], Loss: 4.5100\n",
      "Epoch [3/10], Step [1200], Loss: 4.4409\n",
      "Epoch [4/10], Step [1200], Loss: 4.4073\n",
      "Epoch [5/10], Step [1200], Loss: 4.3963\n",
      "Epoch [6/10], Step [1200], Loss: 4.3774\n",
      "Epoch [7/10], Step [1200], Loss: 4.3770\n",
      "Epoch [8/10], Step [1200], Loss: 4.3670\n",
      "Epoch [9/10], Step [1200], Loss: 4.3558\n",
      "Epoch [10/10], Step [1200], Loss: 4.3680\n"
     ]
    },
    {
     "name": "stderr",
     "output_type": "stream",
     "text": [
      "\u001b[32m[I 2022-11-12 18:33:54,866]\u001b[0m Trial 10 finished with value: 4.702213033644433 and parameters: {'lr': 0.009899960539808402, 'optimizer': 'RMSprop'}. Best is trial 2 with value: 4.474703687386954.\u001b[0m\n"
     ]
    },
    {
     "name": "stdout",
     "output_type": "stream",
     "text": [
      "Epoch [1/10], Step [1200], Loss: 6.2461\n",
      "Epoch [2/10], Step [1200], Loss: 5.6337\n",
      "Epoch [3/10], Step [1200], Loss: 5.2039\n",
      "Epoch [4/10], Step [1200], Loss: 4.9494\n",
      "Epoch [5/10], Step [1200], Loss: 4.7924\n",
      "Epoch [6/10], Step [1200], Loss: 4.7313\n",
      "Epoch [7/10], Step [1200], Loss: 4.7062\n",
      "Epoch [8/10], Step [1200], Loss: 4.6807\n",
      "Epoch [9/10], Step [1200], Loss: 4.6789\n",
      "Epoch [10/10], Step [1200], Loss: 4.6632\n"
     ]
    },
    {
     "name": "stderr",
     "output_type": "stream",
     "text": [
      "\u001b[32m[I 2022-11-12 18:36:56,129]\u001b[0m Trial 11 finished with value: 4.443821089851035 and parameters: {'lr': 2.9607797708165323e-06, 'optimizer': 'AdamW'}. Best is trial 11 with value: 4.443821089851035.\u001b[0m\n"
     ]
    },
    {
     "name": "stdout",
     "output_type": "stream",
     "text": [
      "Epoch [1/10], Step [1200], Loss: 6.9069\n",
      "Epoch [2/10], Step [1200], Loss: 6.2597\n",
      "Epoch [3/10], Step [1200], Loss: 5.9648\n",
      "Epoch [4/10], Step [1200], Loss: 5.6737\n",
      "Epoch [5/10], Step [1200], Loss: 5.4484\n",
      "Epoch [6/10], Step [1200], Loss: 5.2484\n",
      "Epoch [7/10], Step [1200], Loss: 5.0667\n",
      "Epoch [8/10], Step [1200], Loss: 4.9091\n",
      "Epoch [9/10], Step [1200], Loss: 4.8030\n",
      "Epoch [10/10], Step [1200], Loss: 4.6990\n"
     ]
    },
    {
     "name": "stderr",
     "output_type": "stream",
     "text": [
      "\u001b[32m[I 2022-11-12 18:39:57,475]\u001b[0m Trial 12 finished with value: 4.713464880782465 and parameters: {'lr': 1.2138240985224348e-06, 'optimizer': 'AdamW'}. Best is trial 11 with value: 4.443821089851035.\u001b[0m\n"
     ]
    },
    {
     "name": "stdout",
     "output_type": "stream",
     "text": [
      "Epoch [1/10], Step [1200], Loss: 5.9003\n",
      "Epoch [2/10], Step [1200], Loss: 5.0908\n",
      "Epoch [3/10], Step [1200], Loss: 4.7933\n",
      "Epoch [4/10], Step [1200], Loss: 4.7262\n",
      "Epoch [5/10], Step [1200], Loss: 4.7015\n",
      "Epoch [6/10], Step [1200], Loss: 4.6956\n",
      "Epoch [7/10], Step [1200], Loss: 4.6857\n",
      "Epoch [8/10], Step [1200], Loss: 4.6838\n",
      "Epoch [9/10], Step [1200], Loss: 4.6899\n",
      "Epoch [10/10], Step [1200], Loss: 4.6823\n"
     ]
    },
    {
     "name": "stderr",
     "output_type": "stream",
     "text": [
      "\u001b[32m[I 2022-11-12 18:42:59,165]\u001b[0m Trial 13 finished with value: 4.463691811663521 and parameters: {'lr': 5.410708377262757e-06, 'optimizer': 'AdamW'}. Best is trial 11 with value: 4.443821089851035.\u001b[0m\n"
     ]
    },
    {
     "name": "stdout",
     "output_type": "stream",
     "text": [
      "Epoch [1/10], Step [1200], Loss: 5.2430\n",
      "Epoch [2/10], Step [1200], Loss: 4.5284\n",
      "Epoch [3/10], Step [1200], Loss: 4.2237\n",
      "Epoch [4/10], Step [1200], Loss: 4.1424\n",
      "Epoch [5/10], Step [1200], Loss: 4.1219\n",
      "Epoch [6/10], Step [1200], Loss: 4.0963\n",
      "Epoch [7/10], Step [1200], Loss: 4.0877\n",
      "Epoch [8/10], Step [1200], Loss: 4.0968\n",
      "Epoch [9/10], Step [1200], Loss: 4.0804\n",
      "Epoch [10/10], Step [1200], Loss: 4.0765\n"
     ]
    },
    {
     "name": "stderr",
     "output_type": "stream",
     "text": [
      "\u001b[32m[I 2022-11-12 18:46:00,202]\u001b[0m Trial 14 finished with value: 4.471366684113999 and parameters: {'lr': 5.148784916594464e-06, 'optimizer': 'AdamW'}. Best is trial 11 with value: 4.443821089851035.\u001b[0m\n"
     ]
    }
   ],
   "source": [
    "study = optuna.create_study(direction=\"minimize\", sampler=optuna.samplers.TPESampler())\n",
    "study.optimize(objective, n_trials=15)"
   ]
  },
  {
   "cell_type": "code",
   "execution_count": 46,
   "metadata": {},
   "outputs": [
    {
     "name": "stdout",
     "output_type": "stream",
     "text": [
      "lr: 2.9607797708165323e-06\n",
      "optimizer: AdamW\n"
     ]
    }
   ],
   "source": [
    "best_trial = study.best_trial\n",
    "\n",
    "for key, value in best_trial.params.items():\n",
    "    print(\"{}: {}\".format(key, value))"
   ]
  },
  {
   "cell_type": "code",
   "execution_count": 48,
   "metadata": {},
   "outputs": [
    {
     "data": {
      "application/vnd.plotly.v1+json": {
       "config": {
        "plotlyServerURL": "https://plot.ly",
        "staticPlot": true
       },
       "data": [
        {
         "mode": "markers",
         "name": "Objective Value",
         "type": "scatter",
         "x": [
          0,
          1,
          2,
          3,
          4,
          5,
          6,
          7,
          8,
          9,
          10,
          11,
          12,
          13,
          14
         ],
         "y": [
          4.498561649594341,
          4.501998526466714,
          4.474703687386954,
          4.580766836424622,
          4.483467226640062,
          4.482287464685508,
          4.492865732899754,
          4.5052875351169615,
          4.511264488985873,
          4.6401567436453846,
          4.702213033644433,
          4.443821089851035,
          4.713464880782465,
          4.463691811663521,
          4.471366684113999
         ]
        },
        {
         "name": "Best Value",
         "type": "scatter",
         "x": [
          0,
          1,
          2,
          3,
          4,
          5,
          6,
          7,
          8,
          9,
          10,
          11,
          12,
          13,
          14
         ],
         "y": [
          4.498561649594341,
          4.498561649594341,
          4.474703687386954,
          4.474703687386954,
          4.474703687386954,
          4.474703687386954,
          4.474703687386954,
          4.474703687386954,
          4.474703687386954,
          4.474703687386954,
          4.474703687386954,
          4.443821089851035,
          4.443821089851035,
          4.443821089851035,
          4.443821089851035
         ]
        }
       ],
       "layout": {
        "template": {
         "data": {
          "bar": [
           {
            "error_x": {
             "color": "#2a3f5f"
            },
            "error_y": {
             "color": "#2a3f5f"
            },
            "marker": {
             "line": {
              "color": "#E5ECF6",
              "width": 0.5
             },
             "pattern": {
              "fillmode": "overlay",
              "size": 10,
              "solidity": 0.2
             }
            },
            "type": "bar"
           }
          ],
          "barpolar": [
           {
            "marker": {
             "line": {
              "color": "#E5ECF6",
              "width": 0.5
             },
             "pattern": {
              "fillmode": "overlay",
              "size": 10,
              "solidity": 0.2
             }
            },
            "type": "barpolar"
           }
          ],
          "carpet": [
           {
            "aaxis": {
             "endlinecolor": "#2a3f5f",
             "gridcolor": "white",
             "linecolor": "white",
             "minorgridcolor": "white",
             "startlinecolor": "#2a3f5f"
            },
            "baxis": {
             "endlinecolor": "#2a3f5f",
             "gridcolor": "white",
             "linecolor": "white",
             "minorgridcolor": "white",
             "startlinecolor": "#2a3f5f"
            },
            "type": "carpet"
           }
          ],
          "choropleth": [
           {
            "colorbar": {
             "outlinewidth": 0,
             "ticks": ""
            },
            "type": "choropleth"
           }
          ],
          "contour": [
           {
            "colorbar": {
             "outlinewidth": 0,
             "ticks": ""
            },
            "colorscale": [
             [
              0,
              "#0d0887"
             ],
             [
              0.1111111111111111,
              "#46039f"
             ],
             [
              0.2222222222222222,
              "#7201a8"
             ],
             [
              0.3333333333333333,
              "#9c179e"
             ],
             [
              0.4444444444444444,
              "#bd3786"
             ],
             [
              0.5555555555555556,
              "#d8576b"
             ],
             [
              0.6666666666666666,
              "#ed7953"
             ],
             [
              0.7777777777777778,
              "#fb9f3a"
             ],
             [
              0.8888888888888888,
              "#fdca26"
             ],
             [
              1,
              "#f0f921"
             ]
            ],
            "type": "contour"
           }
          ],
          "contourcarpet": [
           {
            "colorbar": {
             "outlinewidth": 0,
             "ticks": ""
            },
            "type": "contourcarpet"
           }
          ],
          "heatmap": [
           {
            "colorbar": {
             "outlinewidth": 0,
             "ticks": ""
            },
            "colorscale": [
             [
              0,
              "#0d0887"
             ],
             [
              0.1111111111111111,
              "#46039f"
             ],
             [
              0.2222222222222222,
              "#7201a8"
             ],
             [
              0.3333333333333333,
              "#9c179e"
             ],
             [
              0.4444444444444444,
              "#bd3786"
             ],
             [
              0.5555555555555556,
              "#d8576b"
             ],
             [
              0.6666666666666666,
              "#ed7953"
             ],
             [
              0.7777777777777778,
              "#fb9f3a"
             ],
             [
              0.8888888888888888,
              "#fdca26"
             ],
             [
              1,
              "#f0f921"
             ]
            ],
            "type": "heatmap"
           }
          ],
          "heatmapgl": [
           {
            "colorbar": {
             "outlinewidth": 0,
             "ticks": ""
            },
            "colorscale": [
             [
              0,
              "#0d0887"
             ],
             [
              0.1111111111111111,
              "#46039f"
             ],
             [
              0.2222222222222222,
              "#7201a8"
             ],
             [
              0.3333333333333333,
              "#9c179e"
             ],
             [
              0.4444444444444444,
              "#bd3786"
             ],
             [
              0.5555555555555556,
              "#d8576b"
             ],
             [
              0.6666666666666666,
              "#ed7953"
             ],
             [
              0.7777777777777778,
              "#fb9f3a"
             ],
             [
              0.8888888888888888,
              "#fdca26"
             ],
             [
              1,
              "#f0f921"
             ]
            ],
            "type": "heatmapgl"
           }
          ],
          "histogram": [
           {
            "marker": {
             "pattern": {
              "fillmode": "overlay",
              "size": 10,
              "solidity": 0.2
             }
            },
            "type": "histogram"
           }
          ],
          "histogram2d": [
           {
            "colorbar": {
             "outlinewidth": 0,
             "ticks": ""
            },
            "colorscale": [
             [
              0,
              "#0d0887"
             ],
             [
              0.1111111111111111,
              "#46039f"
             ],
             [
              0.2222222222222222,
              "#7201a8"
             ],
             [
              0.3333333333333333,
              "#9c179e"
             ],
             [
              0.4444444444444444,
              "#bd3786"
             ],
             [
              0.5555555555555556,
              "#d8576b"
             ],
             [
              0.6666666666666666,
              "#ed7953"
             ],
             [
              0.7777777777777778,
              "#fb9f3a"
             ],
             [
              0.8888888888888888,
              "#fdca26"
             ],
             [
              1,
              "#f0f921"
             ]
            ],
            "type": "histogram2d"
           }
          ],
          "histogram2dcontour": [
           {
            "colorbar": {
             "outlinewidth": 0,
             "ticks": ""
            },
            "colorscale": [
             [
              0,
              "#0d0887"
             ],
             [
              0.1111111111111111,
              "#46039f"
             ],
             [
              0.2222222222222222,
              "#7201a8"
             ],
             [
              0.3333333333333333,
              "#9c179e"
             ],
             [
              0.4444444444444444,
              "#bd3786"
             ],
             [
              0.5555555555555556,
              "#d8576b"
             ],
             [
              0.6666666666666666,
              "#ed7953"
             ],
             [
              0.7777777777777778,
              "#fb9f3a"
             ],
             [
              0.8888888888888888,
              "#fdca26"
             ],
             [
              1,
              "#f0f921"
             ]
            ],
            "type": "histogram2dcontour"
           }
          ],
          "mesh3d": [
           {
            "colorbar": {
             "outlinewidth": 0,
             "ticks": ""
            },
            "type": "mesh3d"
           }
          ],
          "parcoords": [
           {
            "line": {
             "colorbar": {
              "outlinewidth": 0,
              "ticks": ""
             }
            },
            "type": "parcoords"
           }
          ],
          "pie": [
           {
            "automargin": true,
            "type": "pie"
           }
          ],
          "scatter": [
           {
            "fillpattern": {
             "fillmode": "overlay",
             "size": 10,
             "solidity": 0.2
            },
            "type": "scatter"
           }
          ],
          "scatter3d": [
           {
            "line": {
             "colorbar": {
              "outlinewidth": 0,
              "ticks": ""
             }
            },
            "marker": {
             "colorbar": {
              "outlinewidth": 0,
              "ticks": ""
             }
            },
            "type": "scatter3d"
           }
          ],
          "scattercarpet": [
           {
            "marker": {
             "colorbar": {
              "outlinewidth": 0,
              "ticks": ""
             }
            },
            "type": "scattercarpet"
           }
          ],
          "scattergeo": [
           {
            "marker": {
             "colorbar": {
              "outlinewidth": 0,
              "ticks": ""
             }
            },
            "type": "scattergeo"
           }
          ],
          "scattergl": [
           {
            "marker": {
             "colorbar": {
              "outlinewidth": 0,
              "ticks": ""
             }
            },
            "type": "scattergl"
           }
          ],
          "scattermapbox": [
           {
            "marker": {
             "colorbar": {
              "outlinewidth": 0,
              "ticks": ""
             }
            },
            "type": "scattermapbox"
           }
          ],
          "scatterpolar": [
           {
            "marker": {
             "colorbar": {
              "outlinewidth": 0,
              "ticks": ""
             }
            },
            "type": "scatterpolar"
           }
          ],
          "scatterpolargl": [
           {
            "marker": {
             "colorbar": {
              "outlinewidth": 0,
              "ticks": ""
             }
            },
            "type": "scatterpolargl"
           }
          ],
          "scatterternary": [
           {
            "marker": {
             "colorbar": {
              "outlinewidth": 0,
              "ticks": ""
             }
            },
            "type": "scatterternary"
           }
          ],
          "surface": [
           {
            "colorbar": {
             "outlinewidth": 0,
             "ticks": ""
            },
            "colorscale": [
             [
              0,
              "#0d0887"
             ],
             [
              0.1111111111111111,
              "#46039f"
             ],
             [
              0.2222222222222222,
              "#7201a8"
             ],
             [
              0.3333333333333333,
              "#9c179e"
             ],
             [
              0.4444444444444444,
              "#bd3786"
             ],
             [
              0.5555555555555556,
              "#d8576b"
             ],
             [
              0.6666666666666666,
              "#ed7953"
             ],
             [
              0.7777777777777778,
              "#fb9f3a"
             ],
             [
              0.8888888888888888,
              "#fdca26"
             ],
             [
              1,
              "#f0f921"
             ]
            ],
            "type": "surface"
           }
          ],
          "table": [
           {
            "cells": {
             "fill": {
              "color": "#EBF0F8"
             },
             "line": {
              "color": "white"
             }
            },
            "header": {
             "fill": {
              "color": "#C8D4E3"
             },
             "line": {
              "color": "white"
             }
            },
            "type": "table"
           }
          ]
         },
         "layout": {
          "annotationdefaults": {
           "arrowcolor": "#2a3f5f",
           "arrowhead": 0,
           "arrowwidth": 1
          },
          "autotypenumbers": "strict",
          "coloraxis": {
           "colorbar": {
            "outlinewidth": 0,
            "ticks": ""
           }
          },
          "colorscale": {
           "diverging": [
            [
             0,
             "#8e0152"
            ],
            [
             0.1,
             "#c51b7d"
            ],
            [
             0.2,
             "#de77ae"
            ],
            [
             0.3,
             "#f1b6da"
            ],
            [
             0.4,
             "#fde0ef"
            ],
            [
             0.5,
             "#f7f7f7"
            ],
            [
             0.6,
             "#e6f5d0"
            ],
            [
             0.7,
             "#b8e186"
            ],
            [
             0.8,
             "#7fbc41"
            ],
            [
             0.9,
             "#4d9221"
            ],
            [
             1,
             "#276419"
            ]
           ],
           "sequential": [
            [
             0,
             "#0d0887"
            ],
            [
             0.1111111111111111,
             "#46039f"
            ],
            [
             0.2222222222222222,
             "#7201a8"
            ],
            [
             0.3333333333333333,
             "#9c179e"
            ],
            [
             0.4444444444444444,
             "#bd3786"
            ],
            [
             0.5555555555555556,
             "#d8576b"
            ],
            [
             0.6666666666666666,
             "#ed7953"
            ],
            [
             0.7777777777777778,
             "#fb9f3a"
            ],
            [
             0.8888888888888888,
             "#fdca26"
            ],
            [
             1,
             "#f0f921"
            ]
           ],
           "sequentialminus": [
            [
             0,
             "#0d0887"
            ],
            [
             0.1111111111111111,
             "#46039f"
            ],
            [
             0.2222222222222222,
             "#7201a8"
            ],
            [
             0.3333333333333333,
             "#9c179e"
            ],
            [
             0.4444444444444444,
             "#bd3786"
            ],
            [
             0.5555555555555556,
             "#d8576b"
            ],
            [
             0.6666666666666666,
             "#ed7953"
            ],
            [
             0.7777777777777778,
             "#fb9f3a"
            ],
            [
             0.8888888888888888,
             "#fdca26"
            ],
            [
             1,
             "#f0f921"
            ]
           ]
          },
          "colorway": [
           "#636efa",
           "#EF553B",
           "#00cc96",
           "#ab63fa",
           "#FFA15A",
           "#19d3f3",
           "#FF6692",
           "#B6E880",
           "#FF97FF",
           "#FECB52"
          ],
          "font": {
           "color": "#2a3f5f"
          },
          "geo": {
           "bgcolor": "white",
           "lakecolor": "white",
           "landcolor": "#E5ECF6",
           "showlakes": true,
           "showland": true,
           "subunitcolor": "white"
          },
          "hoverlabel": {
           "align": "left"
          },
          "hovermode": "closest",
          "mapbox": {
           "style": "light"
          },
          "paper_bgcolor": "white",
          "plot_bgcolor": "#E5ECF6",
          "polar": {
           "angularaxis": {
            "gridcolor": "white",
            "linecolor": "white",
            "ticks": ""
           },
           "bgcolor": "#E5ECF6",
           "radialaxis": {
            "gridcolor": "white",
            "linecolor": "white",
            "ticks": ""
           }
          },
          "scene": {
           "xaxis": {
            "backgroundcolor": "#E5ECF6",
            "gridcolor": "white",
            "gridwidth": 2,
            "linecolor": "white",
            "showbackground": true,
            "ticks": "",
            "zerolinecolor": "white"
           },
           "yaxis": {
            "backgroundcolor": "#E5ECF6",
            "gridcolor": "white",
            "gridwidth": 2,
            "linecolor": "white",
            "showbackground": true,
            "ticks": "",
            "zerolinecolor": "white"
           },
           "zaxis": {
            "backgroundcolor": "#E5ECF6",
            "gridcolor": "white",
            "gridwidth": 2,
            "linecolor": "white",
            "showbackground": true,
            "ticks": "",
            "zerolinecolor": "white"
           }
          },
          "shapedefaults": {
           "line": {
            "color": "#2a3f5f"
           }
          },
          "ternary": {
           "aaxis": {
            "gridcolor": "white",
            "linecolor": "white",
            "ticks": ""
           },
           "baxis": {
            "gridcolor": "white",
            "linecolor": "white",
            "ticks": ""
           },
           "bgcolor": "#E5ECF6",
           "caxis": {
            "gridcolor": "white",
            "linecolor": "white",
            "ticks": ""
           }
          },
          "title": {
           "x": 0.05
          },
          "xaxis": {
           "automargin": true,
           "gridcolor": "white",
           "linecolor": "white",
           "ticks": "",
           "title": {
            "standoff": 15
           },
           "zerolinecolor": "white",
           "zerolinewidth": 2
          },
          "yaxis": {
           "automargin": true,
           "gridcolor": "white",
           "linecolor": "white",
           "ticks": "",
           "title": {
            "standoff": 15
           },
           "zerolinecolor": "white",
           "zerolinewidth": 2
          }
         }
        },
        "title": {
         "text": "Optimization History Plot"
        },
        "xaxis": {
         "title": {
          "text": "Trial"
         }
        },
        "yaxis": {
         "title": {
          "text": "Objective Value"
         }
        }
       }
      }
     },
     "metadata": {},
     "output_type": "display_data"
    }
   ],
   "source": [
    "from optuna.visualization import plot_optimization_history\n",
    "plotly_config = {\"staticPlot\": True}\n",
    "\n",
    "fig = plot_optimization_history(study)\n",
    "fig.show(config=plotly_config)"
   ]
  },
  {
   "cell_type": "code",
   "execution_count": 49,
   "metadata": {},
   "outputs": [
    {
     "data": {
      "application/vnd.plotly.v1+json": {
       "config": {
        "plotlyServerURL": "https://plot.ly",
        "staticPlot": true
       },
       "data": [
        {
         "cliponaxis": false,
         "hovertemplate": [
          "optimizer (CategoricalDistribution): 0.24147644169295795<extra></extra>",
          "lr (FloatDistribution): 0.7585235583070421<extra></extra>"
         ],
         "marker": {
          "color": "rgb(66,146,198)"
         },
         "orientation": "h",
         "text": [
          "0.24",
          "0.76"
         ],
         "textposition": "outside",
         "type": "bar",
         "x": [
          0.24147644169295795,
          0.7585235583070421
         ],
         "y": [
          "optimizer",
          "lr"
         ]
        }
       ],
       "layout": {
        "showlegend": false,
        "template": {
         "data": {
          "bar": [
           {
            "error_x": {
             "color": "#2a3f5f"
            },
            "error_y": {
             "color": "#2a3f5f"
            },
            "marker": {
             "line": {
              "color": "#E5ECF6",
              "width": 0.5
             },
             "pattern": {
              "fillmode": "overlay",
              "size": 10,
              "solidity": 0.2
             }
            },
            "type": "bar"
           }
          ],
          "barpolar": [
           {
            "marker": {
             "line": {
              "color": "#E5ECF6",
              "width": 0.5
             },
             "pattern": {
              "fillmode": "overlay",
              "size": 10,
              "solidity": 0.2
             }
            },
            "type": "barpolar"
           }
          ],
          "carpet": [
           {
            "aaxis": {
             "endlinecolor": "#2a3f5f",
             "gridcolor": "white",
             "linecolor": "white",
             "minorgridcolor": "white",
             "startlinecolor": "#2a3f5f"
            },
            "baxis": {
             "endlinecolor": "#2a3f5f",
             "gridcolor": "white",
             "linecolor": "white",
             "minorgridcolor": "white",
             "startlinecolor": "#2a3f5f"
            },
            "type": "carpet"
           }
          ],
          "choropleth": [
           {
            "colorbar": {
             "outlinewidth": 0,
             "ticks": ""
            },
            "type": "choropleth"
           }
          ],
          "contour": [
           {
            "colorbar": {
             "outlinewidth": 0,
             "ticks": ""
            },
            "colorscale": [
             [
              0,
              "#0d0887"
             ],
             [
              0.1111111111111111,
              "#46039f"
             ],
             [
              0.2222222222222222,
              "#7201a8"
             ],
             [
              0.3333333333333333,
              "#9c179e"
             ],
             [
              0.4444444444444444,
              "#bd3786"
             ],
             [
              0.5555555555555556,
              "#d8576b"
             ],
             [
              0.6666666666666666,
              "#ed7953"
             ],
             [
              0.7777777777777778,
              "#fb9f3a"
             ],
             [
              0.8888888888888888,
              "#fdca26"
             ],
             [
              1,
              "#f0f921"
             ]
            ],
            "type": "contour"
           }
          ],
          "contourcarpet": [
           {
            "colorbar": {
             "outlinewidth": 0,
             "ticks": ""
            },
            "type": "contourcarpet"
           }
          ],
          "heatmap": [
           {
            "colorbar": {
             "outlinewidth": 0,
             "ticks": ""
            },
            "colorscale": [
             [
              0,
              "#0d0887"
             ],
             [
              0.1111111111111111,
              "#46039f"
             ],
             [
              0.2222222222222222,
              "#7201a8"
             ],
             [
              0.3333333333333333,
              "#9c179e"
             ],
             [
              0.4444444444444444,
              "#bd3786"
             ],
             [
              0.5555555555555556,
              "#d8576b"
             ],
             [
              0.6666666666666666,
              "#ed7953"
             ],
             [
              0.7777777777777778,
              "#fb9f3a"
             ],
             [
              0.8888888888888888,
              "#fdca26"
             ],
             [
              1,
              "#f0f921"
             ]
            ],
            "type": "heatmap"
           }
          ],
          "heatmapgl": [
           {
            "colorbar": {
             "outlinewidth": 0,
             "ticks": ""
            },
            "colorscale": [
             [
              0,
              "#0d0887"
             ],
             [
              0.1111111111111111,
              "#46039f"
             ],
             [
              0.2222222222222222,
              "#7201a8"
             ],
             [
              0.3333333333333333,
              "#9c179e"
             ],
             [
              0.4444444444444444,
              "#bd3786"
             ],
             [
              0.5555555555555556,
              "#d8576b"
             ],
             [
              0.6666666666666666,
              "#ed7953"
             ],
             [
              0.7777777777777778,
              "#fb9f3a"
             ],
             [
              0.8888888888888888,
              "#fdca26"
             ],
             [
              1,
              "#f0f921"
             ]
            ],
            "type": "heatmapgl"
           }
          ],
          "histogram": [
           {
            "marker": {
             "pattern": {
              "fillmode": "overlay",
              "size": 10,
              "solidity": 0.2
             }
            },
            "type": "histogram"
           }
          ],
          "histogram2d": [
           {
            "colorbar": {
             "outlinewidth": 0,
             "ticks": ""
            },
            "colorscale": [
             [
              0,
              "#0d0887"
             ],
             [
              0.1111111111111111,
              "#46039f"
             ],
             [
              0.2222222222222222,
              "#7201a8"
             ],
             [
              0.3333333333333333,
              "#9c179e"
             ],
             [
              0.4444444444444444,
              "#bd3786"
             ],
             [
              0.5555555555555556,
              "#d8576b"
             ],
             [
              0.6666666666666666,
              "#ed7953"
             ],
             [
              0.7777777777777778,
              "#fb9f3a"
             ],
             [
              0.8888888888888888,
              "#fdca26"
             ],
             [
              1,
              "#f0f921"
             ]
            ],
            "type": "histogram2d"
           }
          ],
          "histogram2dcontour": [
           {
            "colorbar": {
             "outlinewidth": 0,
             "ticks": ""
            },
            "colorscale": [
             [
              0,
              "#0d0887"
             ],
             [
              0.1111111111111111,
              "#46039f"
             ],
             [
              0.2222222222222222,
              "#7201a8"
             ],
             [
              0.3333333333333333,
              "#9c179e"
             ],
             [
              0.4444444444444444,
              "#bd3786"
             ],
             [
              0.5555555555555556,
              "#d8576b"
             ],
             [
              0.6666666666666666,
              "#ed7953"
             ],
             [
              0.7777777777777778,
              "#fb9f3a"
             ],
             [
              0.8888888888888888,
              "#fdca26"
             ],
             [
              1,
              "#f0f921"
             ]
            ],
            "type": "histogram2dcontour"
           }
          ],
          "mesh3d": [
           {
            "colorbar": {
             "outlinewidth": 0,
             "ticks": ""
            },
            "type": "mesh3d"
           }
          ],
          "parcoords": [
           {
            "line": {
             "colorbar": {
              "outlinewidth": 0,
              "ticks": ""
             }
            },
            "type": "parcoords"
           }
          ],
          "pie": [
           {
            "automargin": true,
            "type": "pie"
           }
          ],
          "scatter": [
           {
            "fillpattern": {
             "fillmode": "overlay",
             "size": 10,
             "solidity": 0.2
            },
            "type": "scatter"
           }
          ],
          "scatter3d": [
           {
            "line": {
             "colorbar": {
              "outlinewidth": 0,
              "ticks": ""
             }
            },
            "marker": {
             "colorbar": {
              "outlinewidth": 0,
              "ticks": ""
             }
            },
            "type": "scatter3d"
           }
          ],
          "scattercarpet": [
           {
            "marker": {
             "colorbar": {
              "outlinewidth": 0,
              "ticks": ""
             }
            },
            "type": "scattercarpet"
           }
          ],
          "scattergeo": [
           {
            "marker": {
             "colorbar": {
              "outlinewidth": 0,
              "ticks": ""
             }
            },
            "type": "scattergeo"
           }
          ],
          "scattergl": [
           {
            "marker": {
             "colorbar": {
              "outlinewidth": 0,
              "ticks": ""
             }
            },
            "type": "scattergl"
           }
          ],
          "scattermapbox": [
           {
            "marker": {
             "colorbar": {
              "outlinewidth": 0,
              "ticks": ""
             }
            },
            "type": "scattermapbox"
           }
          ],
          "scatterpolar": [
           {
            "marker": {
             "colorbar": {
              "outlinewidth": 0,
              "ticks": ""
             }
            },
            "type": "scatterpolar"
           }
          ],
          "scatterpolargl": [
           {
            "marker": {
             "colorbar": {
              "outlinewidth": 0,
              "ticks": ""
             }
            },
            "type": "scatterpolargl"
           }
          ],
          "scatterternary": [
           {
            "marker": {
             "colorbar": {
              "outlinewidth": 0,
              "ticks": ""
             }
            },
            "type": "scatterternary"
           }
          ],
          "surface": [
           {
            "colorbar": {
             "outlinewidth": 0,
             "ticks": ""
            },
            "colorscale": [
             [
              0,
              "#0d0887"
             ],
             [
              0.1111111111111111,
              "#46039f"
             ],
             [
              0.2222222222222222,
              "#7201a8"
             ],
             [
              0.3333333333333333,
              "#9c179e"
             ],
             [
              0.4444444444444444,
              "#bd3786"
             ],
             [
              0.5555555555555556,
              "#d8576b"
             ],
             [
              0.6666666666666666,
              "#ed7953"
             ],
             [
              0.7777777777777778,
              "#fb9f3a"
             ],
             [
              0.8888888888888888,
              "#fdca26"
             ],
             [
              1,
              "#f0f921"
             ]
            ],
            "type": "surface"
           }
          ],
          "table": [
           {
            "cells": {
             "fill": {
              "color": "#EBF0F8"
             },
             "line": {
              "color": "white"
             }
            },
            "header": {
             "fill": {
              "color": "#C8D4E3"
             },
             "line": {
              "color": "white"
             }
            },
            "type": "table"
           }
          ]
         },
         "layout": {
          "annotationdefaults": {
           "arrowcolor": "#2a3f5f",
           "arrowhead": 0,
           "arrowwidth": 1
          },
          "autotypenumbers": "strict",
          "coloraxis": {
           "colorbar": {
            "outlinewidth": 0,
            "ticks": ""
           }
          },
          "colorscale": {
           "diverging": [
            [
             0,
             "#8e0152"
            ],
            [
             0.1,
             "#c51b7d"
            ],
            [
             0.2,
             "#de77ae"
            ],
            [
             0.3,
             "#f1b6da"
            ],
            [
             0.4,
             "#fde0ef"
            ],
            [
             0.5,
             "#f7f7f7"
            ],
            [
             0.6,
             "#e6f5d0"
            ],
            [
             0.7,
             "#b8e186"
            ],
            [
             0.8,
             "#7fbc41"
            ],
            [
             0.9,
             "#4d9221"
            ],
            [
             1,
             "#276419"
            ]
           ],
           "sequential": [
            [
             0,
             "#0d0887"
            ],
            [
             0.1111111111111111,
             "#46039f"
            ],
            [
             0.2222222222222222,
             "#7201a8"
            ],
            [
             0.3333333333333333,
             "#9c179e"
            ],
            [
             0.4444444444444444,
             "#bd3786"
            ],
            [
             0.5555555555555556,
             "#d8576b"
            ],
            [
             0.6666666666666666,
             "#ed7953"
            ],
            [
             0.7777777777777778,
             "#fb9f3a"
            ],
            [
             0.8888888888888888,
             "#fdca26"
            ],
            [
             1,
             "#f0f921"
            ]
           ],
           "sequentialminus": [
            [
             0,
             "#0d0887"
            ],
            [
             0.1111111111111111,
             "#46039f"
            ],
            [
             0.2222222222222222,
             "#7201a8"
            ],
            [
             0.3333333333333333,
             "#9c179e"
            ],
            [
             0.4444444444444444,
             "#bd3786"
            ],
            [
             0.5555555555555556,
             "#d8576b"
            ],
            [
             0.6666666666666666,
             "#ed7953"
            ],
            [
             0.7777777777777778,
             "#fb9f3a"
            ],
            [
             0.8888888888888888,
             "#fdca26"
            ],
            [
             1,
             "#f0f921"
            ]
           ]
          },
          "colorway": [
           "#636efa",
           "#EF553B",
           "#00cc96",
           "#ab63fa",
           "#FFA15A",
           "#19d3f3",
           "#FF6692",
           "#B6E880",
           "#FF97FF",
           "#FECB52"
          ],
          "font": {
           "color": "#2a3f5f"
          },
          "geo": {
           "bgcolor": "white",
           "lakecolor": "white",
           "landcolor": "#E5ECF6",
           "showlakes": true,
           "showland": true,
           "subunitcolor": "white"
          },
          "hoverlabel": {
           "align": "left"
          },
          "hovermode": "closest",
          "mapbox": {
           "style": "light"
          },
          "paper_bgcolor": "white",
          "plot_bgcolor": "#E5ECF6",
          "polar": {
           "angularaxis": {
            "gridcolor": "white",
            "linecolor": "white",
            "ticks": ""
           },
           "bgcolor": "#E5ECF6",
           "radialaxis": {
            "gridcolor": "white",
            "linecolor": "white",
            "ticks": ""
           }
          },
          "scene": {
           "xaxis": {
            "backgroundcolor": "#E5ECF6",
            "gridcolor": "white",
            "gridwidth": 2,
            "linecolor": "white",
            "showbackground": true,
            "ticks": "",
            "zerolinecolor": "white"
           },
           "yaxis": {
            "backgroundcolor": "#E5ECF6",
            "gridcolor": "white",
            "gridwidth": 2,
            "linecolor": "white",
            "showbackground": true,
            "ticks": "",
            "zerolinecolor": "white"
           },
           "zaxis": {
            "backgroundcolor": "#E5ECF6",
            "gridcolor": "white",
            "gridwidth": 2,
            "linecolor": "white",
            "showbackground": true,
            "ticks": "",
            "zerolinecolor": "white"
           }
          },
          "shapedefaults": {
           "line": {
            "color": "#2a3f5f"
           }
          },
          "ternary": {
           "aaxis": {
            "gridcolor": "white",
            "linecolor": "white",
            "ticks": ""
           },
           "baxis": {
            "gridcolor": "white",
            "linecolor": "white",
            "ticks": ""
           },
           "bgcolor": "#E5ECF6",
           "caxis": {
            "gridcolor": "white",
            "linecolor": "white",
            "ticks": ""
           }
          },
          "title": {
           "x": 0.05
          },
          "xaxis": {
           "automargin": true,
           "gridcolor": "white",
           "linecolor": "white",
           "ticks": "",
           "title": {
            "standoff": 15
           },
           "zerolinecolor": "white",
           "zerolinewidth": 2
          },
          "yaxis": {
           "automargin": true,
           "gridcolor": "white",
           "linecolor": "white",
           "ticks": "",
           "title": {
            "standoff": 15
           },
           "zerolinecolor": "white",
           "zerolinewidth": 2
          }
         }
        },
        "title": {
         "text": "Hyperparameter Importances"
        },
        "xaxis": {
         "title": {
          "text": "Importance for Objective Value"
         }
        },
        "yaxis": {
         "title": {
          "text": "Hyperparameter"
         }
        }
       }
      }
     },
     "metadata": {},
     "output_type": "display_data"
    }
   ],
   "source": [
    "from optuna.visualization import plot_param_importances\n",
    "\n",
    "fig1 = plot_param_importances(study)\n",
    "fig1.show(config=plotly_config)"
   ]
  }
 ],
 "metadata": {
  "kernelspec": {
   "display_name": "Python 3.10.6 64-bit",
   "language": "python",
   "name": "python3"
  },
  "language_info": {
   "codemirror_mode": {
    "name": "ipython",
    "version": 3
   },
   "file_extension": ".py",
   "mimetype": "text/x-python",
   "name": "python",
   "nbconvert_exporter": "python",
   "pygments_lexer": "ipython3",
   "version": "3.10.6"
  },
  "orig_nbformat": 4,
  "vscode": {
   "interpreter": {
    "hash": "8d4c0c068dbc3a0e32f455ee20b21324959693e968c5f5ea7f65133b266c1346"
   }
  }
 },
 "nbformat": 4,
 "nbformat_minor": 2
}
